{
 "cells": [
  {
   "cell_type": "markdown",
   "metadata": {},
   "source": [
    "## Script Oil Production"
   ]
  },
  {
   "cell_type": "markdown",
   "metadata": {},
   "source": [
    "### Import de Bibliotecas"
   ]
  },
  {
   "cell_type": "code",
   "execution_count": 5,
   "metadata": {},
   "outputs": [],
   "source": [
    "#Automação WEB\n",
    "from selenium import webdriver\n",
    "import chromedriver_autoinstaller\n",
    "from selenium.webdriver.common.by import By\n",
    "from time import sleep\n",
    "from selenium.webdriver.common.keys import Keys\n",
    "from pyautogui import alert, confirm\n",
    "\n",
    "#Mover/Carregar Arquivos\n",
    "import os\n",
    "from pathlib import Path\n",
    "import shutil\n",
    "from zipfile import ZipFile\n",
    "import pandas as pd\n",
    "\n",
    "#Conexão ao DB\n",
    "import pyodbc\n",
    "\n",
    "#Envio de E-mail\n",
    "import smtplib\n",
    "import email.message"
   ]
  },
  {
   "cell_type": "markdown",
   "metadata": {},
   "source": [
    "### Web Scraping"
   ]
  },
  {
   "cell_type": "code",
   "execution_count": 6,
   "metadata": {},
   "outputs": [
    {
     "ename": "NoSuchElementException",
     "evalue": "Message: no such element: Unable to locate element: {\"method\":\"xpath\",\"selector\":\"//*[@id=\"site-content\"]/div[2]/div[1]/div/div[1]/form/div/div[2]/button[2]\"}\n  (Session info: chrome=128.0.6613.115); For documentation on this error, please visit: https://www.selenium.dev/documentation/webdriver/troubleshooting/errors#no-such-element-exception\nStacktrace:\n\tGetHandleVerifier [0x00007FF69690B5D2+29090]\n\t(No symbol) [0x00007FF69687E689]\n\t(No symbol) [0x00007FF69673B1CA]\n\t(No symbol) [0x00007FF69678EFD7]\n\t(No symbol) [0x00007FF69678F22C]\n\t(No symbol) [0x00007FF6967D97F7]\n\t(No symbol) [0x00007FF6967B672F]\n\t(No symbol) [0x00007FF6967D65D9]\n\t(No symbol) [0x00007FF6967B6493]\n\t(No symbol) [0x00007FF6967809B1]\n\t(No symbol) [0x00007FF696781B11]\n\tGetHandleVerifier [0x00007FF696C28C5D+3295277]\n\tGetHandleVerifier [0x00007FF696C74843+3605523]\n\tGetHandleVerifier [0x00007FF696C6A707+3564247]\n\tGetHandleVerifier [0x00007FF6969C6EB6+797318]\n\t(No symbol) [0x00007FF69688980F]\n\t(No symbol) [0x00007FF6968853F4]\n\t(No symbol) [0x00007FF696885580]\n\t(No symbol) [0x00007FF696874A1F]\n\tBaseThreadInitThunk [0x00007FFDBBBC257D+29]\n\tRtlUserThreadStart [0x00007FFDBD94AF28+40]\n",
     "output_type": "error",
     "traceback": [
      "\u001b[1;31m---------------------------------------------------------------------------\u001b[0m",
      "\u001b[1;31mNoSuchElementException\u001b[0m                    Traceback (most recent call last)",
      "Cell \u001b[1;32mIn[6], line 24\u001b[0m\n\u001b[0;32m     21\u001b[0m Password \u001b[38;5;241m=\u001b[39m Navegador\u001b[38;5;241m.\u001b[39mfind_element(\u001b[38;5;124m'\u001b[39m\u001b[38;5;124mxpath\u001b[39m\u001b[38;5;124m'\u001b[39m, \u001b[38;5;124m'\u001b[39m\u001b[38;5;124m//*[@id=\u001b[39m\u001b[38;5;124m\"\u001b[39m\u001b[38;5;124m:r8:\u001b[39m\u001b[38;5;124m\"\u001b[39m\u001b[38;5;124m]\u001b[39m\u001b[38;5;124m'\u001b[39m)\n\u001b[0;32m     22\u001b[0m Password \u001b[38;5;241m.\u001b[39msend_keys(\u001b[38;5;124m'\u001b[39m\u001b[38;5;124mK@ggle0051\u001b[39m\u001b[38;5;124m'\u001b[39m)\n\u001b[1;32m---> 24\u001b[0m Sign_In \u001b[38;5;241m=\u001b[39m \u001b[43mNavegador\u001b[49m\u001b[38;5;241;43m.\u001b[39;49m\u001b[43mfind_element\u001b[49m\u001b[43m(\u001b[49m\u001b[38;5;124;43m'\u001b[39;49m\u001b[38;5;124;43mxpath\u001b[39;49m\u001b[38;5;124;43m'\u001b[39;49m\u001b[43m,\u001b[49m\u001b[43m \u001b[49m\u001b[38;5;124;43m'\u001b[39;49m\u001b[38;5;124;43m//*[@id=\u001b[39;49m\u001b[38;5;124;43m\"\u001b[39;49m\u001b[38;5;124;43msite-content\u001b[39;49m\u001b[38;5;124;43m\"\u001b[39;49m\u001b[38;5;124;43m]/div[2]/div[1]/div/div[1]/form/div/div[2]/button[2]\u001b[39;49m\u001b[38;5;124;43m'\u001b[39;49m\u001b[43m)\u001b[49m\n\u001b[0;32m     25\u001b[0m Sign_In\u001b[38;5;241m.\u001b[39mclick()\n\u001b[0;32m     26\u001b[0m sleep(\u001b[38;5;241m5\u001b[39m)\n",
      "File \u001b[1;32mc:\\Users\\Miza\\AppData\\Local\\Programs\\Python\\Python312\\Lib\\site-packages\\selenium\\webdriver\\remote\\webdriver.py:741\u001b[0m, in \u001b[0;36mWebDriver.find_element\u001b[1;34m(self, by, value)\u001b[0m\n\u001b[0;32m    738\u001b[0m     by \u001b[38;5;241m=\u001b[39m By\u001b[38;5;241m.\u001b[39mCSS_SELECTOR\n\u001b[0;32m    739\u001b[0m     value \u001b[38;5;241m=\u001b[39m \u001b[38;5;124mf\u001b[39m\u001b[38;5;124m'\u001b[39m\u001b[38;5;124m[name=\u001b[39m\u001b[38;5;124m\"\u001b[39m\u001b[38;5;132;01m{\u001b[39;00mvalue\u001b[38;5;132;01m}\u001b[39;00m\u001b[38;5;124m\"\u001b[39m\u001b[38;5;124m]\u001b[39m\u001b[38;5;124m'\u001b[39m\n\u001b[1;32m--> 741\u001b[0m \u001b[38;5;28;01mreturn\u001b[39;00m \u001b[38;5;28;43mself\u001b[39;49m\u001b[38;5;241;43m.\u001b[39;49m\u001b[43mexecute\u001b[49m\u001b[43m(\u001b[49m\u001b[43mCommand\u001b[49m\u001b[38;5;241;43m.\u001b[39;49m\u001b[43mFIND_ELEMENT\u001b[49m\u001b[43m,\u001b[49m\u001b[43m \u001b[49m\u001b[43m{\u001b[49m\u001b[38;5;124;43m\"\u001b[39;49m\u001b[38;5;124;43musing\u001b[39;49m\u001b[38;5;124;43m\"\u001b[39;49m\u001b[43m:\u001b[49m\u001b[43m \u001b[49m\u001b[43mby\u001b[49m\u001b[43m,\u001b[49m\u001b[43m \u001b[49m\u001b[38;5;124;43m\"\u001b[39;49m\u001b[38;5;124;43mvalue\u001b[39;49m\u001b[38;5;124;43m\"\u001b[39;49m\u001b[43m:\u001b[49m\u001b[43m \u001b[49m\u001b[43mvalue\u001b[49m\u001b[43m}\u001b[49m\u001b[43m)\u001b[49m[\u001b[38;5;124m\"\u001b[39m\u001b[38;5;124mvalue\u001b[39m\u001b[38;5;124m\"\u001b[39m]\n",
      "File \u001b[1;32mc:\\Users\\Miza\\AppData\\Local\\Programs\\Python\\Python312\\Lib\\site-packages\\selenium\\webdriver\\remote\\webdriver.py:347\u001b[0m, in \u001b[0;36mWebDriver.execute\u001b[1;34m(self, driver_command, params)\u001b[0m\n\u001b[0;32m    345\u001b[0m response \u001b[38;5;241m=\u001b[39m \u001b[38;5;28mself\u001b[39m\u001b[38;5;241m.\u001b[39mcommand_executor\u001b[38;5;241m.\u001b[39mexecute(driver_command, params)\n\u001b[0;32m    346\u001b[0m \u001b[38;5;28;01mif\u001b[39;00m response:\n\u001b[1;32m--> 347\u001b[0m     \u001b[38;5;28;43mself\u001b[39;49m\u001b[38;5;241;43m.\u001b[39;49m\u001b[43merror_handler\u001b[49m\u001b[38;5;241;43m.\u001b[39;49m\u001b[43mcheck_response\u001b[49m\u001b[43m(\u001b[49m\u001b[43mresponse\u001b[49m\u001b[43m)\u001b[49m\n\u001b[0;32m    348\u001b[0m     response[\u001b[38;5;124m\"\u001b[39m\u001b[38;5;124mvalue\u001b[39m\u001b[38;5;124m\"\u001b[39m] \u001b[38;5;241m=\u001b[39m \u001b[38;5;28mself\u001b[39m\u001b[38;5;241m.\u001b[39m_unwrap_value(response\u001b[38;5;241m.\u001b[39mget(\u001b[38;5;124m\"\u001b[39m\u001b[38;5;124mvalue\u001b[39m\u001b[38;5;124m\"\u001b[39m, \u001b[38;5;28;01mNone\u001b[39;00m))\n\u001b[0;32m    349\u001b[0m     \u001b[38;5;28;01mreturn\u001b[39;00m response\n",
      "File \u001b[1;32mc:\\Users\\Miza\\AppData\\Local\\Programs\\Python\\Python312\\Lib\\site-packages\\selenium\\webdriver\\remote\\errorhandler.py:229\u001b[0m, in \u001b[0;36mErrorHandler.check_response\u001b[1;34m(self, response)\u001b[0m\n\u001b[0;32m    227\u001b[0m         alert_text \u001b[38;5;241m=\u001b[39m value[\u001b[38;5;124m\"\u001b[39m\u001b[38;5;124malert\u001b[39m\u001b[38;5;124m\"\u001b[39m]\u001b[38;5;241m.\u001b[39mget(\u001b[38;5;124m\"\u001b[39m\u001b[38;5;124mtext\u001b[39m\u001b[38;5;124m\"\u001b[39m)\n\u001b[0;32m    228\u001b[0m     \u001b[38;5;28;01mraise\u001b[39;00m exception_class(message, screen, stacktrace, alert_text)  \u001b[38;5;66;03m# type: ignore[call-arg]  # mypy is not smart enough here\u001b[39;00m\n\u001b[1;32m--> 229\u001b[0m \u001b[38;5;28;01mraise\u001b[39;00m exception_class(message, screen, stacktrace)\n",
      "\u001b[1;31mNoSuchElementException\u001b[0m: Message: no such element: Unable to locate element: {\"method\":\"xpath\",\"selector\":\"//*[@id=\"site-content\"]/div[2]/div[1]/div/div[1]/form/div/div[2]/button[2]\"}\n  (Session info: chrome=128.0.6613.115); For documentation on this error, please visit: https://www.selenium.dev/documentation/webdriver/troubleshooting/errors#no-such-element-exception\nStacktrace:\n\tGetHandleVerifier [0x00007FF69690B5D2+29090]\n\t(No symbol) [0x00007FF69687E689]\n\t(No symbol) [0x00007FF69673B1CA]\n\t(No symbol) [0x00007FF69678EFD7]\n\t(No symbol) [0x00007FF69678F22C]\n\t(No symbol) [0x00007FF6967D97F7]\n\t(No symbol) [0x00007FF6967B672F]\n\t(No symbol) [0x00007FF6967D65D9]\n\t(No symbol) [0x00007FF6967B6493]\n\t(No symbol) [0x00007FF6967809B1]\n\t(No symbol) [0x00007FF696781B11]\n\tGetHandleVerifier [0x00007FF696C28C5D+3295277]\n\tGetHandleVerifier [0x00007FF696C74843+3605523]\n\tGetHandleVerifier [0x00007FF696C6A707+3564247]\n\tGetHandleVerifier [0x00007FF6969C6EB6+797318]\n\t(No symbol) [0x00007FF69688980F]\n\t(No symbol) [0x00007FF6968853F4]\n\t(No symbol) [0x00007FF696885580]\n\t(No symbol) [0x00007FF696874A1F]\n\tBaseThreadInitThunk [0x00007FFDBBBC257D+29]\n\tRtlUserThreadStart [0x00007FFDBD94AF28+40]\n"
     ]
    }
   ],
   "source": [
    "confirm(text='Script de atualização do Dashboard.', title='Script', buttons=['Confirmar', 'Cancelar'])\n",
    "\n",
    "chromedriver_autoinstaller.install()\n",
    "Navegador = webdriver.Chrome()\n",
    "\n",
    "Link = \"https://www.kaggle.com/datasets/sazidthe1/oil-production\"\n",
    "Navegador.get(Link)\n",
    "sleep(1)\n",
    "\n",
    "Button_Sign_In = Navegador.find_element('xpath', '//*[@id=\"site-container\"]/div/div[4]/div[2]/div[2]/div/div[1]/a/button')\n",
    "Button_Sign_In.click()\n",
    "sleep(1)\n",
    "\n",
    "Button_Email = Navegador.find_element('xpath', '//*[@id=\"site-content\"]/div[2]/div/div/div[1]/form/div/div/div[1]/button[2]')\n",
    "Button_Email.click()\n",
    "sleep(1)\n",
    "\n",
    "Email_Address = Navegador.find_element('xpath', '//*[@id=\":r7:\"]')\n",
    "Email_Address.send_keys('emiliano.junqueira@gmail.com')\n",
    "\n",
    "Password = Navegador.find_element('xpath', '//*[@id=\":r8:\"]')\n",
    "Password .send_keys('K@ggle0051')\n",
    "\n",
    "Sign_In = Navegador.find_element('xpath', '//*[@id=\"site-content\"]/div[2]/div[1]/div/div[1]/form/div/div[2]/button[2]')\n",
    "Sign_In.click()\n",
    "sleep(5)\n",
    "\n",
    "Download = Navegador.find_element('xpath', '//*[@id=\"site-content\"]/div[2]/div[1]/div/div[1]/form/div/div[4]/button[2]')\n",
    "Download.click()\n",
    "sleep(5)\n",
    "\n",
    "\n",
    "Navegador.quit()"
   ]
  },
  {
   "cell_type": "markdown",
   "metadata": {},
   "source": [
    "### Mover e Descompactar o Arquivo\n"
   ]
  },
  {
   "cell_type": "code",
   "execution_count": null,
   "metadata": {},
   "outputs": [],
   "source": [
    "Origin = ('C:/Users/Miza/Downloads/archive.zip')\n",
    "Destiny = Path('C:/Users/Miza/Desktop/CoderHouse/Data_Analytics')\n",
    "\n",
    "shutil.copy2(Origin, Destiny)\n",
    "\n",
    "if os.path.exists(Origin):\n",
    "    os.remove(Origin)\n",
    "\n",
    "with ZipFile(\"archive.zip\", \"r\") as zip:\n",
    "    zip.extractall()"
   ]
  },
  {
   "cell_type": "markdown",
   "metadata": {},
   "source": [
    "### Conexão ao DB"
   ]
  },
  {
   "cell_type": "code",
   "execution_count": null,
   "metadata": {},
   "outputs": [],
   "source": [
    "dados_conexion = (\n",
    "\t\"Driver={SQL Server};\"\n",
    "\t\"Server=DESKTOP-2TU1ACJ;\"\n",
    "\t\"Database=Oil_Production;\"\n",
    "\t)\n",
    "conexao = pyodbc.connect(dados_conexion)\n",
    "cursor = conexao.cursor()"
   ]
  },
  {
   "cell_type": "markdown",
   "metadata": {},
   "source": [
    "### Carregar/Analisar os Dados "
   ]
  },
  {
   "cell_type": "code",
   "execution_count": null,
   "metadata": {},
   "outputs": [],
   "source": [
    "df = pd.read_csv(r\"C:\\Users\\Miza\\Desktop\\Data_Analytics\\oil_production_statistics.csv\", delimiter=',', encoding='unicode_escape',)\n",
    "df.head()"
   ]
  },
  {
   "cell_type": "code",
   "execution_count": null,
   "metadata": {},
   "outputs": [],
   "source": [
    "df.info()"
   ]
  },
  {
   "cell_type": "markdown",
   "metadata": {},
   "source": [
    "### Delete e Load dos Dados ao DB"
   ]
  },
  {
   "cell_type": "code",
   "execution_count": null,
   "metadata": {},
   "outputs": [],
   "source": [
    "cursor.execute('TRUNCATE TABLE oil_production_statistics')\n",
    "cursor.commit()"
   ]
  },
  {
   "cell_type": "code",
   "execution_count": null,
   "metadata": {},
   "outputs": [],
   "source": [
    "for index, row in df.iterrows():\n",
    "    sql = \"INSERT INTO oil_production_statistics (country_name, type, product, flow, year, value) VALUES (?, ?, ?, ?, ?, ?)\"\n",
    "    val = (row['country_name'], row['type'], row['product'], row['flow'], row['year'], row['value'])\n",
    "    cursor.execute(sql, val)\n",
    "    conexao.commit()\n",
    "\n",
    "conexao.close()  "
   ]
  },
  {
   "cell_type": "markdown",
   "metadata": {},
   "source": [
    "### Envio do Email de aviso da Atualização"
   ]
  },
  {
   "cell_type": "code",
   "execution_count": null,
   "metadata": {},
   "outputs": [],
   "source": [
    "def sendEmail():\n",
    "    body_email= \"\"\"\n",
    "    \n",
    "    <p> Olá!! </p>\n",
    "    <p> Segue o link do arquivo para visualização: <a href=\"https://app.powerbi.com/view?r=eyJrIjoiMDU3MDA0MmYtYzVhZS00MDE5LWJmZTEtZDdiZmVkZjQ0ODIzIiwidCI6IjljNDk2NGIzLWFjODEtNDE4OC04ZGFhLWNjZWQwODZlYjVhMSJ9\"> \n",
    "    Oil Production. </a> </p>   \n",
    "\n",
    "    <p> Att,, </p>  \n",
    "    \n",
    "    \"\"\"\n",
    "    \n",
    "    msg = email.message.Message()\n",
    "    msg['Subject'] = \"Dashboard Atualizado\"\n",
    "    msg['From'] = \"emiliano.junqueira@gmail.com\"\n",
    "    msg['To'] = \"emiliano.junqueira@gmail.com\"\n",
    "    password = 'ygep xoth agie mdek'\n",
    "    msg.add_header('Content-Type', 'text/html')\n",
    "    msg.set_payload(body_email)\n",
    "    \n",
    "    s = smtplib.SMTP('smtp.gmail.com: 587')\n",
    "    s.starttls()\n",
    "    s.login(msg['From'], password)\n",
    "    s.sendmail(msg['From'], [msg['To']], msg.as_string().encode('utf-8'))\n",
    "    s.quit()\n",
    "\n",
    "sendEmail() \n",
    "\n",
    "alert('Script chegou ao Fim.')"
   ]
  }
 ],
 "metadata": {
  "kernelspec": {
   "display_name": "Python 3",
   "language": "python",
   "name": "python3"
  },
  "language_info": {
   "codemirror_mode": {
    "name": "ipython",
    "version": 3
   },
   "file_extension": ".py",
   "mimetype": "text/x-python",
   "name": "python",
   "nbconvert_exporter": "python",
   "pygments_lexer": "ipython3",
   "version": "3.12.2"
  }
 },
 "nbformat": 4,
 "nbformat_minor": 2
}
