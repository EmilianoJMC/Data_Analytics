{
 "cells": [
  {
   "cell_type": "markdown",
   "metadata": {},
   "source": [
    "## Script Oil Production"
   ]
  },
  {
   "cell_type": "markdown",
   "metadata": {},
   "source": [
    "### Import de Bibliotecas"
   ]
  },
  {
   "cell_type": "code",
   "execution_count": 39,
   "metadata": {},
   "outputs": [],
   "source": [
    "#Automação WEB\n",
    "from selenium import webdriver\n",
    "import chromedriver_autoinstaller\n",
    "from selenium.webdriver.common.by import By\n",
    "from time import sleep\n",
    "from selenium.webdriver.common.keys import Keys\n",
    "from pyautogui import alert, confirm\n",
    "\n",
    "#Mover/Carregar Arquivos\n",
    "import os\n",
    "from pathlib import Path\n",
    "import shutil\n",
    "from zipfile import ZipFile\n",
    "import pandas as pd\n",
    "\n",
    "#Conexão ao DB\n",
    "import pyodbc\n",
    "\n",
    "#Envio de E-mail\n",
    "import smtplib\n",
    "import email.message"
   ]
  },
  {
   "cell_type": "markdown",
   "metadata": {},
   "source": [
    "### Web Scraping"
   ]
  },
  {
   "cell_type": "code",
   "execution_count": 40,
   "metadata": {},
   "outputs": [],
   "source": [
    "confirm(text='Script de atualização do Dashboard.', title='Script', buttons=['Confirmar', 'Cancelar'])\n",
    "\n",
    "chromedriver_autoinstaller.install()\n",
    "Navegador = webdriver.Chrome()\n",
    "\n",
    "Link = \"https://www.kaggle.com/datasets/sazidthe1/oil-production\"\n",
    "Navegador.get(Link)\n",
    "sleep(1)\n",
    "\n",
    "Button_Sign_In = Navegador.find_element('xpath', '//*[@id=\"site-container\"]/div/div[4]/div[2]/div[2]/div/div[1]/a/button')\n",
    "Button_Sign_In.click()\n",
    "sleep(1)\n",
    "\n",
    "Button_Email = Navegador.find_element('xpath', '//*[@id=\"site-content\"]/div[2]/div/div/div[1]/form/div/div/div[1]/button[2]')\n",
    "Button_Email.click()\n",
    "sleep(1)\n",
    "\n",
    "Email_Address = Navegador.find_element('xpath', '//*[@id=\":r7:\"]')\n",
    "Email_Address.send_keys('emiliano.junqueira@gmail.com')\n",
    "\n",
    "Password = Navegador.find_element('xpath', '//*[@id=\":r8:\"]')\n",
    "Password .send_keys('K@ggle0051')\n",
    "\n",
    "Sign_In = Navegador.find_element('xpath', '//*[@id=\"site-content\"]/div[2]/div[1]/div/div[1]/form/div/div[4]/button[2]')\n",
    "Sign_In.click()\n",
    "sleep(5)\n",
    "\n",
    "Download = Navegador.find_element('xpath', '//*[@id=\"site-content\"]/div[2]/div/div[2]/div/div[2]/div[1]/div/div[2]/div[1]/button[1]')\n",
    "Download.click()\n",
    "sleep(5)\n",
    "\n",
    "\n",
    "Navegador.quit()"
   ]
  },
  {
   "cell_type": "markdown",
   "metadata": {},
   "source": [
    "### Mover e Descompactar o Arquivo\n"
   ]
  },
  {
   "cell_type": "code",
   "execution_count": 41,
   "metadata": {},
   "outputs": [],
   "source": [
    "Origin = ('C:/Users/Miza/Downloads/archive.zip')\n",
    "Destiny = Path('C:/Users/Miza/Desktop/CoderHouse/Data_Analytics')\n",
    "\n",
    "shutil.copy2(Origin, Destiny)\n",
    "\n",
    "if os.path.exists(Origin):\n",
    "    os.remove(Origin)\n",
    "\n",
    "with ZipFile(\"archive.zip\", \"r\") as zip:\n",
    "    zip.extractall()"
   ]
  },
  {
   "cell_type": "markdown",
   "metadata": {},
   "source": [
    "### Conexão ao DB"
   ]
  },
  {
   "cell_type": "code",
   "execution_count": 42,
   "metadata": {},
   "outputs": [],
   "source": [
    "dados_conexion = (\n",
    "\t\"Driver={SQL Server};\"\n",
    "\t\"Server=DESKTOP-2TU1ACJ;\"\n",
    "\t\"Database=Oil_Production;\"\n",
    "\t)\n",
    "conexao = pyodbc.connect(dados_conexion)\n",
    "cursor = conexao.cursor()"
   ]
  },
  {
   "cell_type": "markdown",
   "metadata": {},
   "source": [
    "### Carregar/Analisar os Dados "
   ]
  },
  {
   "cell_type": "code",
   "execution_count": 43,
   "metadata": {},
   "outputs": [
    {
     "data": {
      "text/html": [
       "<div>\n",
       "<style scoped>\n",
       "    .dataframe tbody tr th:only-of-type {\n",
       "        vertical-align: middle;\n",
       "    }\n",
       "\n",
       "    .dataframe tbody tr th {\n",
       "        vertical-align: top;\n",
       "    }\n",
       "\n",
       "    .dataframe thead th {\n",
       "        text-align: right;\n",
       "    }\n",
       "</style>\n",
       "<table border=\"1\" class=\"dataframe\">\n",
       "  <thead>\n",
       "    <tr style=\"text-align: right;\">\n",
       "      <th></th>\n",
       "      <th>country_name</th>\n",
       "      <th>type</th>\n",
       "      <th>product</th>\n",
       "      <th>flow</th>\n",
       "      <th>year</th>\n",
       "      <th>value</th>\n",
       "    </tr>\n",
       "  </thead>\n",
       "  <tbody>\n",
       "    <tr>\n",
       "      <th>0</th>\n",
       "      <td>Australia</td>\n",
       "      <td>Balance</td>\n",
       "      <td>Crude oil</td>\n",
       "      <td>Industrial Production</td>\n",
       "      <td>2021</td>\n",
       "      <td>18029.678</td>\n",
       "    </tr>\n",
       "    <tr>\n",
       "      <th>1</th>\n",
       "      <td>Austria</td>\n",
       "      <td>Balance</td>\n",
       "      <td>Crude oil</td>\n",
       "      <td>Industrial Production</td>\n",
       "      <td>2021</td>\n",
       "      <td>561.852</td>\n",
       "    </tr>\n",
       "    <tr>\n",
       "      <th>2</th>\n",
       "      <td>Belgium</td>\n",
       "      <td>Balance</td>\n",
       "      <td>Crude oil</td>\n",
       "      <td>Industrial Production</td>\n",
       "      <td>2021</td>\n",
       "      <td>0.000</td>\n",
       "    </tr>\n",
       "    <tr>\n",
       "      <th>3</th>\n",
       "      <td>Canada</td>\n",
       "      <td>Balance</td>\n",
       "      <td>Crude oil</td>\n",
       "      <td>Industrial Production</td>\n",
       "      <td>2021</td>\n",
       "      <td>266630.180</td>\n",
       "    </tr>\n",
       "    <tr>\n",
       "      <th>4</th>\n",
       "      <td>Chile</td>\n",
       "      <td>Balance</td>\n",
       "      <td>Crude oil</td>\n",
       "      <td>Industrial Production</td>\n",
       "      <td>2021</td>\n",
       "      <td>340.997</td>\n",
       "    </tr>\n",
       "  </tbody>\n",
       "</table>\n",
       "</div>"
      ],
      "text/plain": [
       "  country_name     type    product                   flow  year       value\n",
       "0    Australia  Balance  Crude oil  Industrial Production  2021   18029.678\n",
       "1      Austria  Balance  Crude oil  Industrial Production  2021     561.852\n",
       "2      Belgium  Balance  Crude oil  Industrial Production  2021       0.000\n",
       "3       Canada  Balance  Crude oil  Industrial Production  2021  266630.180\n",
       "4        Chile  Balance  Crude oil  Industrial Production  2021     340.997"
      ]
     },
     "execution_count": 43,
     "metadata": {},
     "output_type": "execute_result"
    }
   ],
   "source": [
    "df = pd.read_csv(\"C://Users//Miza//Desktop//CoderHouse//Data_Analytics//oil_production_statistics.csv\", delimiter=',', encoding='unicode_escape',)\n",
    "df.head()"
   ]
  },
  {
   "cell_type": "code",
   "execution_count": 44,
   "metadata": {},
   "outputs": [
    {
     "name": "stdout",
     "output_type": "stream",
     "text": [
      "<class 'pandas.core.frame.DataFrame'>\n",
      "RangeIndex: 2376 entries, 0 to 2375\n",
      "Data columns (total 6 columns):\n",
      " #   Column        Non-Null Count  Dtype  \n",
      "---  ------        --------------  -----  \n",
      " 0   country_name  2376 non-null   object \n",
      " 1   type          2376 non-null   object \n",
      " 2   product       2376 non-null   object \n",
      " 3   flow          2376 non-null   object \n",
      " 4   year          2376 non-null   int64  \n",
      " 5   value         2376 non-null   float64\n",
      "dtypes: float64(1), int64(1), object(4)\n",
      "memory usage: 111.5+ KB\n"
     ]
    }
   ],
   "source": [
    "df.info()"
   ]
  },
  {
   "cell_type": "markdown",
   "metadata": {},
   "source": [
    "### Delete e Load dos Dados ao DB"
   ]
  },
  {
   "cell_type": "code",
   "execution_count": 45,
   "metadata": {},
   "outputs": [],
   "source": [
    "cursor.execute('TRUNCATE TABLE oil_production_statistics')\n",
    "cursor.commit()"
   ]
  },
  {
   "cell_type": "code",
   "execution_count": 46,
   "metadata": {},
   "outputs": [],
   "source": [
    "for index, row in df.iterrows():\n",
    "    sql = \"INSERT INTO oil_production_statistics (country_name, type, product, flow, year, value) VALUES (?, ?, ?, ?, ?, ?)\"\n",
    "    val = (row['country_name'], row['type'], row['product'], row['flow'], row['year'], row['value'])\n",
    "    cursor.execute(sql, val)\n",
    "    conexao.commit()\n",
    "\n",
    "conexao.close()  "
   ]
  },
  {
   "cell_type": "markdown",
   "metadata": {},
   "source": [
    "### Envio do Email de aviso da Atualização"
   ]
  },
  {
   "cell_type": "code",
   "execution_count": 47,
   "metadata": {},
   "outputs": [
    {
     "data": {
      "text/plain": [
       "'OK'"
      ]
     },
     "execution_count": 47,
     "metadata": {},
     "output_type": "execute_result"
    }
   ],
   "source": [
    "def sendEmail():\n",
    "    body_email= \"\"\"\n",
    "    \n",
    "    <p> Olá!! </p>\n",
    "    <p> Segue o link do arquivo para visualização: <a href=\"https://app.powerbi.com/view?r=eyJrIjoiMDU3MDA0MmYtYzVhZS00MDE5LWJmZTEtZDdiZmVkZjQ0ODIzIiwidCI6IjljNDk2NGIzLWFjODEtNDE4OC04ZGFhLWNjZWQwODZlYjVhMSJ9\"> \n",
    "    Oil Production. </a> </p>   \n",
    "\n",
    "    <p> Att,, </p>  \n",
    "    \n",
    "    \"\"\"\n",
    "    \n",
    "    msg = email.message.Message()\n",
    "    msg['Subject'] = \"Dashboard Atualizado\"\n",
    "    msg['From'] = \"emiliano.junqueira@gmail.com\"\n",
    "    msg['To'] = \"emiliano.junqueira@gmail.com\"\n",
    "    password = 'ygep xoth agie mdek'\n",
    "    msg.add_header('Content-Type', 'text/html')\n",
    "    msg.set_payload(body_email)\n",
    "    \n",
    "    s = smtplib.SMTP('smtp.gmail.com: 587')\n",
    "    s.starttls()\n",
    "    s.login(msg['From'], password)\n",
    "    s.sendmail(msg['From'], [msg['To']], msg.as_string().encode('utf-8'))\n",
    "    s.quit()\n",
    "\n",
    "sendEmail() \n",
    "\n",
    "alert('Script chegou ao Fim.')"
   ]
  }
 ],
 "metadata": {
  "kernelspec": {
   "display_name": "Python 3",
   "language": "python",
   "name": "python3"
  },
  "language_info": {
   "codemirror_mode": {
    "name": "ipython",
    "version": 3
   },
   "file_extension": ".py",
   "mimetype": "text/x-python",
   "name": "python",
   "nbconvert_exporter": "python",
   "pygments_lexer": "ipython3",
   "version": "3.12.2"
  }
 },
 "nbformat": 4,
 "nbformat_minor": 2
}
